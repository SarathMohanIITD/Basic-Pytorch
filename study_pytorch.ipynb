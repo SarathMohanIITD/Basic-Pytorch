{
  "nbformat": 4,
  "nbformat_minor": 0,
  "metadata": {
    "colab": {
      "provenance": [],
      "authorship_tag": "ABX9TyMyq0Qnh1j6tI5JD4eVYbZP",
      "include_colab_link": true
    },
    "kernelspec": {
      "name": "python3",
      "display_name": "Python 3"
    },
    "language_info": {
      "name": "python"
    }
  },
  "cells": [
    {
      "cell_type": "markdown",
      "metadata": {
        "id": "view-in-github",
        "colab_type": "text"
      },
      "source": [
        "<a href=\"https://colab.research.google.com/github/SarathMohanIITD/Basic-Pytorch/blob/main/study_pytorch.ipynb\" target=\"_parent\"><img src=\"https://colab.research.google.com/assets/colab-badge.svg\" alt=\"Open In Colab\"/></a>"
      ]
    },
    {
      "cell_type": "code",
      "execution_count": 1,
      "metadata": {
        "id": "1atFkLUNiDI4"
      },
      "outputs": [],
      "source": [
        "import torch"
      ]
    },
    {
      "cell_type": "code",
      "source": [
        " ## Random tensor\n",
        "random_tensor = torch.rand(3,4)\n",
        "random_tensor"
      ],
      "metadata": {
        "colab": {
          "base_uri": "https://localhost:8080/"
        },
        "id": "KnQ2WTJ8jMvJ",
        "outputId": "4cdfdf04-8c66-42c1-aa2b-e4be4d10dddd"
      },
      "execution_count": 2,
      "outputs": [
        {
          "output_type": "execute_result",
          "data": {
            "text/plain": [
              "tensor([[0.3073, 0.5656, 0.2498, 0.9608],\n",
              "        [0.9110, 0.0637, 0.4325, 0.3564],\n",
              "        [0.9253, 0.4412, 0.2460, 0.3681]])"
            ]
          },
          "metadata": {},
          "execution_count": 2
        }
      ]
    },
    {
      "cell_type": "markdown",
      "source": [
        "## Create a random tensor with similar shape to an image"
      ],
      "metadata": {
        "id": "KPLHz-xTkPm_"
      }
    },
    {
      "cell_type": "code",
      "source": [
        "random_image_tensor = torch.rand(size = (3,224,224))\n",
        "random_image_tensor.shape,random_image_tensor.ndim"
      ],
      "metadata": {
        "colab": {
          "base_uri": "https://localhost:8080/"
        },
        "id": "zNXLfwOmjl14",
        "outputId": "20f711b6-127c-49f5-d06c-63d265563722"
      },
      "execution_count": 3,
      "outputs": [
        {
          "output_type": "execute_result",
          "data": {
            "text/plain": [
              "(torch.Size([3, 224, 224]), 3)"
            ]
          },
          "metadata": {},
          "execution_count": 3
        }
      ]
    },
    {
      "cell_type": "markdown",
      "source": [
        "## Zeros and ones"
      ],
      "metadata": {
        "id": "F4uV4vyhlFFs"
      }
    },
    {
      "cell_type": "code",
      "source": [
        "zeros = torch.zeros(size=(3,4))"
      ],
      "metadata": {
        "id": "fq4cfqjCkK--"
      },
      "execution_count": 4,
      "outputs": []
    },
    {
      "cell_type": "code",
      "source": [
        "ones = torch.ones(size=(3,4))"
      ],
      "metadata": {
        "id": "4DrxobPnlJv2"
      },
      "execution_count": 5,
      "outputs": []
    },
    {
      "cell_type": "code",
      "source": [
        "ones.dtype"
      ],
      "metadata": {
        "colab": {
          "base_uri": "https://localhost:8080/"
        },
        "id": "YFg0LT_rlRfW",
        "outputId": "94f885ec-adae-4fb7-98c4-6bef5c521269"
      },
      "execution_count": 6,
      "outputs": [
        {
          "output_type": "execute_result",
          "data": {
            "text/plain": [
              "torch.float32"
            ]
          },
          "metadata": {},
          "execution_count": 6
        }
      ]
    },
    {
      "cell_type": "markdown",
      "source": [
        "## Creating a range of tensors"
      ],
      "metadata": {
        "id": "paj-xJ1SljZ4"
      }
    },
    {
      "cell_type": "code",
      "source": [
        "one_to_ten=torch.arange(1,11)"
      ],
      "metadata": {
        "id": "E6nEvkbRlWTn"
      },
      "execution_count": 7,
      "outputs": []
    },
    {
      "cell_type": "code",
      "source": [
        "rnge = torch.arange(start=1,end=11,step =1)\n",
        "rnge"
      ],
      "metadata": {
        "colab": {
          "base_uri": "https://localhost:8080/"
        },
        "id": "gMjBzPX8ma-C",
        "outputId": "bc10a589-21bb-4a0a-fb23-4516124b907f"
      },
      "execution_count": 8,
      "outputs": [
        {
          "output_type": "execute_result",
          "data": {
            "text/plain": [
              "tensor([ 1,  2,  3,  4,  5,  6,  7,  8,  9, 10])"
            ]
          },
          "metadata": {},
          "execution_count": 8
        }
      ]
    },
    {
      "cell_type": "code",
      "source": [
        "# Creating tensor like\n",
        "ten_zeros=torch.zeros_like(one_to_ten)\n",
        "ten_zeros"
      ],
      "metadata": {
        "colab": {
          "base_uri": "https://localhost:8080/"
        },
        "id": "kWM75uS5mtIF",
        "outputId": "290db6da-1a28-4cdb-9a3f-3a7f4eeb97be"
      },
      "execution_count": 9,
      "outputs": [
        {
          "output_type": "execute_result",
          "data": {
            "text/plain": [
              "tensor([0, 0, 0, 0, 0, 0, 0, 0, 0, 0])"
            ]
          },
          "metadata": {},
          "execution_count": 9
        }
      ]
    },
    {
      "cell_type": "markdown",
      "source": [
        "## Tensor data types\n",
        "\n",
        "### Note : Tensor datatypes is one of the 3 big errors you'll run into with Pytorch and deep Learning\n",
        "1. Tensor not right datatype\n",
        "2. Tensor not right shape\n",
        "3. Tensor not on the right device"
      ],
      "metadata": {
        "id": "wKOjBxdboO3d"
      }
    },
    {
      "cell_type": "code",
      "source": [
        " float_32_tensor = torch.tensor([3.0,6.0,9.0],\n",
        "                                dtype = None,\n",
        "                                device = 'cpu', \n",
        "                                requires_grad=False)\n",
        " float_32_tensor.dtype"
      ],
      "metadata": {
        "id": "mhBnPbeim_QY",
        "colab": {
          "base_uri": "https://localhost:8080/"
        },
        "outputId": "8b668ef3-ce11-4e8b-b357-7aefb5721f2d"
      },
      "execution_count": 10,
      "outputs": [
        {
          "output_type": "execute_result",
          "data": {
            "text/plain": [
              "torch.float32"
            ]
          },
          "metadata": {},
          "execution_count": 10
        }
      ]
    },
    {
      "cell_type": "code",
      "source": [
        "float_16_tensor= float_32_tensor.type(torch.float16)"
      ],
      "metadata": {
        "id": "XKCZJvupt3pY"
      },
      "execution_count": 11,
      "outputs": []
    },
    {
      "cell_type": "code",
      "source": [
        "float_16_tensor*float_32_tensor"
      ],
      "metadata": {
        "colab": {
          "base_uri": "https://localhost:8080/"
        },
        "id": "lr4wzLCCuHIJ",
        "outputId": "bfd39063-a402-430d-871e-484ada3a63db"
      },
      "execution_count": 12,
      "outputs": [
        {
          "output_type": "execute_result",
          "data": {
            "text/plain": [
              "tensor([ 9., 36., 81.])"
            ]
          },
          "metadata": {},
          "execution_count": 12
        }
      ]
    },
    {
      "cell_type": "code",
      "source": [
        "int_32_tensor = torch.tensor([3,6,9],dtype=torch.int32)"
      ],
      "metadata": {
        "id": "nalsXZYIuOGK"
      },
      "execution_count": 13,
      "outputs": []
    },
    {
      "cell_type": "code",
      "source": [
        "float_32_tensor * int_32_tensor"
      ],
      "metadata": {
        "colab": {
          "base_uri": "https://localhost:8080/"
        },
        "id": "EE8X7kxru0zQ",
        "outputId": "8945c40c-276e-42ef-bd71-cf8cca200048"
      },
      "execution_count": 14,
      "outputs": [
        {
          "output_type": "execute_result",
          "data": {
            "text/plain": [
              "tensor([ 9., 36., 81.])"
            ]
          },
          "metadata": {},
          "execution_count": 14
        }
      ]
    },
    {
      "cell_type": "markdown",
      "source": [
        "## Tensor operations \n"
      ],
      "metadata": {
        "id": "L9lbX8H5u8KB"
      }
    },
    {
      "cell_type": "code",
      "source": [
        "# Create a tensor\n",
        "tensor = torch.tensor([1,2,3])\n",
        "tensor + 100"
      ],
      "metadata": {
        "colab": {
          "base_uri": "https://localhost:8080/"
        },
        "id": "PaI_R0M90xVZ",
        "outputId": "d86d84bd-c361-4bed-e688-e86ff63f16ba"
      },
      "execution_count": 15,
      "outputs": [
        {
          "output_type": "execute_result",
          "data": {
            "text/plain": [
              "tensor([101, 102, 103])"
            ]
          },
          "metadata": {},
          "execution_count": 15
        }
      ]
    },
    {
      "cell_type": "code",
      "source": [
        "# multiply tensor by 10\n",
        "tensor - tensor*10"
      ],
      "metadata": {
        "colab": {
          "base_uri": "https://localhost:8080/"
        },
        "id": "sPT6Hxik07uq",
        "outputId": "189a9535-8878-45f2-b509-4d126ee80093"
      },
      "execution_count": 16,
      "outputs": [
        {
          "output_type": "execute_result",
          "data": {
            "text/plain": [
              "tensor([ -9, -18, -27])"
            ]
          },
          "metadata": {},
          "execution_count": 16
        }
      ]
    },
    {
      "cell_type": "code",
      "source": [
        "# Element wise matrix multiplication\n",
        "tensor*tensor"
      ],
      "metadata": {
        "colab": {
          "base_uri": "https://localhost:8080/"
        },
        "id": "b6VYVewF1COm",
        "outputId": "65aefff0-ca10-49c7-a8c7-5c9169aa053a"
      },
      "execution_count": 17,
      "outputs": [
        {
          "output_type": "execute_result",
          "data": {
            "text/plain": [
              "tensor([1, 4, 9])"
            ]
          },
          "metadata": {},
          "execution_count": 17
        }
      ]
    },
    {
      "cell_type": "code",
      "source": [
        "#Matrix multiplication\n",
        "torch.matmul(tensor,tensor)\n"
      ],
      "metadata": {
        "colab": {
          "base_uri": "https://localhost:8080/"
        },
        "id": "egxluzt21cCO",
        "outputId": "df5ab9fb-5807-4ee5-b70b-063dda156fac"
      },
      "execution_count": 18,
      "outputs": [
        {
          "output_type": "execute_result",
          "data": {
            "text/plain": [
              "tensor(14)"
            ]
          },
          "metadata": {},
          "execution_count": 18
        }
      ]
    },
    {
      "cell_type": "markdown",
      "source": [
        "## Tensor aggregation"
      ],
      "metadata": {
        "id": "2HGmK84e1f6u"
      }
    },
    {
      "cell_type": "code",
      "source": [
        "#Create a tensor\n",
        "x = torch.arange(0,100,10)\n",
        "print(x,x.dtype)\n"
      ],
      "metadata": {
        "colab": {
          "base_uri": "https://localhost:8080/"
        },
        "id": "3G3EZftZ2Jti",
        "outputId": "ac1d414e-922f-42b3-a668-7face87dbb25"
      },
      "execution_count": 19,
      "outputs": [
        {
          "output_type": "stream",
          "name": "stdout",
          "text": [
            "tensor([ 0, 10, 20, 30, 40, 50, 60, 70, 80, 90]) torch.int64\n"
          ]
        }
      ]
    },
    {
      "cell_type": "code",
      "source": [
        "torch.max(x),x.max()"
      ],
      "metadata": {
        "colab": {
          "base_uri": "https://localhost:8080/"
        },
        "id": "Jp-VQ1532MZl",
        "outputId": "ea2b88d6-a19b-462f-84ce-19ff2b8d71c5"
      },
      "execution_count": 20,
      "outputs": [
        {
          "output_type": "execute_result",
          "data": {
            "text/plain": [
              "(tensor(90), tensor(90))"
            ]
          },
          "metadata": {},
          "execution_count": 20
        }
      ]
    },
    {
      "cell_type": "code",
      "source": [
        "torch.min(x),x.min()"
      ],
      "metadata": {
        "colab": {
          "base_uri": "https://localhost:8080/"
        },
        "id": "-KecMN3V2WO2",
        "outputId": "4ef652a0-18b1-4ba9-b502-bb99cd389b10"
      },
      "execution_count": 21,
      "outputs": [
        {
          "output_type": "execute_result",
          "data": {
            "text/plain": [
              "(tensor(0), tensor(0))"
            ]
          },
          "metadata": {},
          "execution_count": 21
        }
      ]
    },
    {
      "cell_type": "code",
      "source": [
        "ange(1.torch.mean(x)"
      ],
      "metadata": {
        "colab": {
          "base_uri": "https://localhost:8080/",
          "height": 135
        },
        "id": "5qoQ3UMJ2dkU",
        "outputId": "8da42829-cea0-4a28-ee75-be4487ced362"
      },
      "execution_count": 22,
      "outputs": [
        {
          "output_type": "error",
          "ename": "SyntaxError",
          "evalue": "ignored",
          "traceback": [
            "\u001b[0;36m  File \u001b[0;32m\"<ipython-input-22-1f3e1d0c9969>\"\u001b[0;36m, line \u001b[0;32m1\u001b[0m\n\u001b[0;31m    ange(1.torch.mean(x)\u001b[0m\n\u001b[0m           ^\u001b[0m\n\u001b[0;31mSyntaxError\u001b[0m\u001b[0;31m:\u001b[0m invalid syntax\n"
          ]
        }
      ]
    },
    {
      "cell_type": "markdown",
      "source": [
        "This shows data type error "
      ],
      "metadata": {
        "id": "3ZzUDOMa2hyr"
      }
    },
    {
      "cell_type": "code",
      "source": [
        "torch.mean(x.type(torch.float32))"
      ],
      "metadata": {
        "id": "KowZESGG2nXL"
      },
      "execution_count": null,
      "outputs": []
    },
    {
      "cell_type": "markdown",
      "source": [
        "## Finding the positional min and max"
      ],
      "metadata": {
        "id": "y779xqfX2tjq"
      }
    },
    {
      "cell_type": "code",
      "source": [
        "x.argmin() # Gives the index value"
      ],
      "metadata": {
        "id": "0DTwEQhV3IIe"
      },
      "execution_count": null,
      "outputs": []
    },
    {
      "cell_type": "markdown",
      "source": [
        "## Reshaping ,stacking ,squeezing and unsqueezing tensors\n",
        "\n",
        " Reshaping - reshapes an input tensor to a defined shape \n",
        "* View      - Reutrn a view of an input tensor of certain shape but keep the same memory as the original tensor\n",
        "* Stacking - Cobining multiple tensors on top of each other (vstack) or side by side(hstack)  https://pytorch.org/docs/stable/generated/torch.stack.html\n",
        "* Unsqueeze - Add a '1' dimension to a target tensor\n",
        "* Permute - Return a view of the input with dimension permute (swapped) in a certain way\n"
      ],
      "metadata": {
        "id": "n9RQw77a3MuO"
      }
    },
    {
      "cell_type": "code",
      "source": [
        "x = torch.arange(1.,10.)\n",
        "x,x.shape"
      ],
      "metadata": {
        "id": "lWn3Dayt3jyw"
      },
      "execution_count": null,
      "outputs": []
    },
    {
      "cell_type": "code",
      "source": [
        "x_reshaped = x.reshape(9,1)\n",
        "x_reshaped,x_reshaped.shape"
      ],
      "metadata": {
        "id": "XyynkzZ5TTjF"
      },
      "execution_count": null,
      "outputs": []
    },
    {
      "cell_type": "markdown",
      "source": [
        "# Change view\n",
        "### Changing z changes x ( because a view of a tensor shares the same memory as the original input )"
      ],
      "metadata": {
        "id": "3FAlZChATmVS"
      }
    },
    {
      "cell_type": "code",
      "source": [
        "z= x.view(1,9)\n",
        "z, z.shape"
      ],
      "metadata": {
        "id": "pCoDdZbTUO1k"
      },
      "execution_count": null,
      "outputs": []
    },
    {
      "cell_type": "code",
      "source": [
        "z[:,0]=5\n",
        "z,x"
      ],
      "metadata": {
        "id": "zdUAPrthUgOP"
      },
      "execution_count": null,
      "outputs": []
    },
    {
      "cell_type": "code",
      "source": [
        "x_stacked = torch.stack([x,x,x,x])  # dim = 0 is default\n",
        "x_stacked "
      ],
      "metadata": {
        "id": "EmNWpU2_UkZZ"
      },
      "execution_count": null,
      "outputs": []
    },
    {
      "cell_type": "code",
      "source": [
        "x_stacked = torch.stack([x,x,x,x],dim = 1)\n",
        "x_stacked"
      ],
      "metadata": {
        "id": "t8xbREAKcJB-"
      },
      "execution_count": null,
      "outputs": []
    },
    {
      "cell_type": "markdown",
      "source": [
        "## Squeeze and unsqueeze\n",
        "Returns a tensor with all the dimensions of input of size 1 removed.\n",
        "\n",
        "For example, if input is of shape: (A×1×B×C×1×D) then the out tensor will be of shape: (A×B×C×D)|\n",
        "\n",
        "input (Tensor) – the input tensor.\n",
        "\n",
        "dim (int, optional) – if given, the input will be squeezed only in this dimension"
      ],
      "metadata": {
        "id": "pwykqWM1cN-1"
      }
    },
    {
      "cell_type": "code",
      "source": [
        "x = torch.zeros(2, 1, 2, 1, 2)\n",
        "x.size()\n",
        "\n",
        "\n"
      ],
      "metadata": {
        "id": "5lNY9XdWcq6m"
      },
      "execution_count": null,
      "outputs": []
    },
    {
      "cell_type": "code",
      "source": [
        "z = torch.squeeze(x)\n",
        "z.size()"
      ],
      "metadata": {
        "id": "yPq0AFAMrErO"
      },
      "execution_count": null,
      "outputs": []
    },
    {
      "cell_type": "code",
      "source": [
        "y = torch.squeeze(x, dim =0)  # makes the dim unchanged\n",
        "y.size()"
      ],
      "metadata": {
        "id": "htc8SwCWrH3e"
      },
      "execution_count": null,
      "outputs": []
    },
    {
      "cell_type": "code",
      "source": [
        "y = torch.squeeze(x, dim =1)\n",
        "y.size()"
      ],
      "metadata": {
        "id": "IYR5ByXbrKVL"
      },
      "execution_count": null,
      "outputs": []
    },
    {
      "cell_type": "markdown",
      "source": [
        "### torch.unsqueeze() - adds a single dimension to a target tensor at a a specific dim"
      ],
      "metadata": {
        "id": "xUOXxv7erLie"
      }
    },
    {
      "cell_type": "code",
      "source": [
        "z_unsq = z.unsqueeze(dim=0)\n",
        "z_unsq.shape"
      ],
      "metadata": {
        "id": "Lmg_Ri0JtPyi"
      },
      "execution_count": null,
      "outputs": []
    },
    {
      "cell_type": "code",
      "source": [
        "z_unsq = z.unsqueeze(dim=1)\n",
        "z_unsq.shape"
      ],
      "metadata": {
        "id": "hFIGAB_9t_OT"
      },
      "execution_count": null,
      "outputs": []
    },
    {
      "cell_type": "markdown",
      "source": [
        "## torch.permute rearranges the dim of a target tensor in a specified order\n",
        "\n",
        "Common in image data\n",
        "\n",
        "## Note : Permute is just a different view, no new copy is created"
      ],
      "metadata": {
        "id": "OhIKmO-cuSzP"
      }
    },
    {
      "cell_type": "code",
      "source": [
        "x = torch.randn(224, 224, 3)\n",
        "x.size()"
      ],
      "metadata": {
        "id": "KqvApxzPwjBL"
      },
      "execution_count": null,
      "outputs": []
    },
    {
      "cell_type": "code",
      "source": [
        "x.shape"
      ],
      "metadata": {
        "id": "6yKzmrqXxEVq"
      },
      "execution_count": null,
      "outputs": []
    },
    {
      "cell_type": "code",
      "source": [
        "# rearranging axis\n",
        "x_perm = x.permute(2,0,1)\n",
        "x_perm.shape"
      ],
      "metadata": {
        "id": "i8c_KbBLv1ri"
      },
      "execution_count": null,
      "outputs": []
    },
    {
      "cell_type": "markdown",
      "source": [
        " ## Indexing "
      ],
      "metadata": {
        "id": "4LqHAHZiv2tj"
      }
    },
    {
      "cell_type": "code",
      "source": [
        "import torch"
      ],
      "metadata": {
        "id": "i54prTeWwcN8"
      },
      "execution_count": 1,
      "outputs": []
    },
    {
      "cell_type": "code",
      "source": [
        "x= torch.arange(1,10).reshape([1,3,3])\n",
        "x, x.shape"
      ],
      "metadata": {
        "colab": {
          "base_uri": "https://localhost:8080/"
        },
        "id": "-XfkFM59Zsr_",
        "outputId": "8dc9ecfc-e16a-4f0e-a981-238696ee3e6a"
      },
      "execution_count": 2,
      "outputs": [
        {
          "output_type": "execute_result",
          "data": {
            "text/plain": [
              "(tensor([[[1, 2, 3],\n",
              "          [4, 5, 6],\n",
              "          [7, 8, 9]]]), torch.Size([1, 3, 3]))"
            ]
          },
          "metadata": {},
          "execution_count": 2
        }
      ]
    },
    {
      "cell_type": "code",
      "source": [
        "# Get all values of 0th dim and 1st dim but only index 1 of 2nd dim\n",
        "x[:,:,1]"
      ],
      "metadata": {
        "colab": {
          "base_uri": "https://localhost:8080/"
        },
        "id": "cuesydRUZ3E9",
        "outputId": "fbfd1db0-b328-447c-f02a-6b813e50957a"
      },
      "execution_count": 3,
      "outputs": [
        {
          "output_type": "execute_result",
          "data": {
            "text/plain": [
              "tensor([[2, 5, 8]])"
            ]
          },
          "metadata": {},
          "execution_count": 3
        }
      ]
    },
    {
      "cell_type": "code",
      "source": [
        "#get index of 0 of 0th and 1st dim and all valuese of 2nd dim\n",
        "x[0,1,1]"
      ],
      "metadata": {
        "colab": {
          "base_uri": "https://localhost:8080/"
        },
        "id": "C-bNAJERbpEl",
        "outputId": "50f80e80-fb96-45b4-ae51-eb83f29f10a4"
      },
      "execution_count": 4,
      "outputs": [
        {
          "output_type": "execute_result",
          "data": {
            "text/plain": [
              "tensor(5)"
            ]
          },
          "metadata": {},
          "execution_count": 4
        }
      ]
    },
    {
      "cell_type": "code",
      "source": [
        "x[0,0,1].shape"
      ],
      "metadata": {
        "colab": {
          "base_uri": "https://localhost:8080/"
        },
        "id": "gzKQxOJmb1Ql",
        "outputId": "7545aa47-a703-4d0c-ad5b-62fd18178c15"
      },
      "execution_count": 5,
      "outputs": [
        {
          "output_type": "execute_result",
          "data": {
            "text/plain": [
              "torch.Size([])"
            ]
          },
          "metadata": {},
          "execution_count": 5
        }
      ]
    },
    {
      "cell_type": "code",
      "source": [
        "x[:,1,1]"
      ],
      "metadata": {
        "colab": {
          "base_uri": "https://localhost:8080/"
        },
        "id": "0HTQSxIecA7H",
        "outputId": "939e0164-47dd-4417-b673-6a517e150025"
      },
      "execution_count": 6,
      "outputs": [
        {
          "output_type": "execute_result",
          "data": {
            "text/plain": [
              "tensor([5])"
            ]
          },
          "metadata": {},
          "execution_count": 6
        }
      ]
    },
    {
      "cell_type": "code",
      "source": [
        "x[:,1,1].shape"
      ],
      "metadata": {
        "colab": {
          "base_uri": "https://localhost:8080/"
        },
        "id": "yg3sNIvgcMwG",
        "outputId": "0bdfb49c-0afa-4f90-aacc-f755b47b6ac9"
      },
      "execution_count": 7,
      "outputs": [
        {
          "output_type": "execute_result",
          "data": {
            "text/plain": [
              "torch.Size([1])"
            ]
          },
          "metadata": {},
          "execution_count": 7
        }
      ]
    },
    {
      "cell_type": "code",
      "source": [
        "# index on x to return 9\n",
        "print(x[0][2][2])\n",
        "\n",
        "# Index on x to return 3,6,9\n",
        "print(x[:,:,2])\n",
        "print(x[:,:,2].shape)"
      ],
      "metadata": {
        "colab": {
          "base_uri": "https://localhost:8080/"
        },
        "id": "bj1BeHW8ci4b",
        "outputId": "44ca79fc-09b7-4f1f-cfc2-e5dd2adf6d7c"
      },
      "execution_count": 9,
      "outputs": [
        {
          "output_type": "stream",
          "name": "stdout",
          "text": [
            "tensor(9)\n",
            "tensor([[3, 6, 9]])\n",
            "torch.Size([1, 3])\n"
          ]
        }
      ]
    },
    {
      "cell_type": "markdown",
      "source": [
        "## Numpy array to tensor"
      ],
      "metadata": {
        "id": "8HRzhGhjknXA"
      }
    },
    {
      "cell_type": "code",
      "source": [
        "import torch\n",
        "import numpy as np\n",
        "\n",
        "array =np.arange(1.0,8.0)\n",
        "tensor = torch.from_numpy(array)\n",
        "print(array.dtype, tensor.dtype)\n",
        "\n",
        "# WARNING: When converting from numpy -> pytorch, pytorch reflects numpy's default datatype float64"
      ],
      "metadata": {
        "colab": {
          "base_uri": "https://localhost:8080/"
        },
        "id": "YKLa3HDfmYnP",
        "outputId": "4ce434ed-1c55-4c64-8acc-a56e8e6dfa53"
      },
      "execution_count": 11,
      "outputs": [
        {
          "output_type": "stream",
          "name": "stdout",
          "text": [
            "float64 torch.float64\n"
          ]
        }
      ]
    },
    {
      "cell_type": "code",
      "source": [
        "# Tensot to  numpy\n",
        "tensor = torch.ones(7)\n",
        "numpy_tensor = tensor.numpy()\n",
        "tensor,numpy_tensor"
      ],
      "metadata": {
        "colab": {
          "base_uri": "https://localhost:8080/"
        },
        "id": "E-AI-d1pmsc_",
        "outputId": "d3328bd2-364b-4e95-fc7e-9af222d38936"
      },
      "execution_count": 13,
      "outputs": [
        {
          "output_type": "execute_result",
          "data": {
            "text/plain": [
              "(tensor([1., 1., 1., 1., 1., 1., 1.]),\n",
              " array([1., 1., 1., 1., 1., 1., 1.], dtype=float32))"
            ]
          },
          "metadata": {},
          "execution_count": 13
        }
      ]
    },
    {
      "cell_type": "markdown",
      "source": [
        "## Reproducability (trying to take random out of random) -> Random seed"
      ],
      "metadata": {
        "id": "O4BdArPbnhHN"
      }
    },
    {
      "cell_type": "code",
      "source": [
        "import torch\n",
        "# create 2 random tensors\n",
        "\n",
        "random_A = torch.rand(3,4)\n",
        "random_B = torch.rand(3,4)\n",
        "print(random_A)\n",
        "print(random_B)\n",
        "print(random_A==random_B)"
      ],
      "metadata": {
        "colab": {
          "base_uri": "https://localhost:8080/"
        },
        "id": "5Lof6WnMnwRh",
        "outputId": "322f1fa8-4c65-4814-fb4f-88cf13dbbc2b"
      },
      "execution_count": 14,
      "outputs": [
        {
          "output_type": "stream",
          "name": "stdout",
          "text": [
            "tensor([[0.9824, 0.7946, 0.4115, 0.4123],\n",
            "        [0.6820, 0.8886, 0.5651, 0.6177],\n",
            "        [0.2711, 0.4843, 0.1785, 0.2821]])\n",
            "tensor([[0.4439, 0.1097, 0.6828, 0.2802],\n",
            "        [0.3475, 0.5697, 0.5821, 0.2146],\n",
            "        [0.8969, 0.5516, 0.6802, 0.0988]])\n",
            "tensor([[False, False, False, False],\n",
            "        [False, False, False, False],\n",
            "        [False, False, False, False]])\n"
          ]
        }
      ]
    },
    {
      "cell_type": "code",
      "source": [
        "from torch.random import manual_seed\n",
        "## Lets make the random numbers reproducable\n",
        "RANDOM_SEED = 42\n",
        "\n",
        "torch.manual_seed(RANDOM_SEED)\n",
        "random_tensor_C = torch.rand(3,4)\n",
        "\n",
        "torch.manual_seed(RANDOM_SEED)\n",
        "random_tensor_D = torch.rand(3,4)\n",
        "\n",
        "print(random_tensor_C)\n",
        "print(random_tensor_D)\n",
        "print(random_tensor_C == random_tensor_D)  # Both tensors will be same"
      ],
      "metadata": {
        "colab": {
          "base_uri": "https://localhost:8080/"
        },
        "id": "TEvxJAuQodxl",
        "outputId": "02817268-c631-48e0-eb0c-857a2d323f24"
      },
      "execution_count": 17,
      "outputs": [
        {
          "output_type": "stream",
          "name": "stdout",
          "text": [
            "tensor([[0.8823, 0.9150, 0.3829, 0.9593],\n",
            "        [0.3904, 0.6009, 0.2566, 0.7936],\n",
            "        [0.9408, 0.1332, 0.9346, 0.5936]])\n",
            "tensor([[0.8823, 0.9150, 0.3829, 0.9593],\n",
            "        [0.3904, 0.6009, 0.2566, 0.7936],\n",
            "        [0.9408, 0.1332, 0.9346, 0.5936]])\n",
            "tensor([[True, True, True, True],\n",
            "        [True, True, True, True],\n",
            "        [True, True, True, True]])\n"
          ]
        }
      ]
    },
    {
      "cell_type": "code",
      "source": [],
      "metadata": {
        "id": "MsS67a4gp8Oh"
      },
      "execution_count": null,
      "outputs": []
    }
  ]
}