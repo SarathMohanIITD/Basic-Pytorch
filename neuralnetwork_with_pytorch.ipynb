{
  "nbformat": 4,
  "nbformat_minor": 0,
  "metadata": {
    "colab": {
      "provenance": [],
      "toc_visible": true,
      "include_colab_link": true
    },
    "kernelspec": {
      "name": "python3",
      "display_name": "Python 3"
    },
    "language_info": {
      "name": "python"
    }
  },
  "cells": [
    {
      "cell_type": "markdown",
      "metadata": {
        "id": "view-in-github",
        "colab_type": "text"
      },
      "source": [
        "<a href=\"https://colab.research.google.com/github/SarathMohanIITD/Basic-Pytorch/blob/main/neuralnetwork_with_pytorch.ipynb\" target=\"_parent\"><img src=\"https://colab.research.google.com/assets/colab-badge.svg\" alt=\"Open In Colab\"/></a>"
      ]
    },
    {
      "cell_type": "markdown",
      "source": [
        "# Workflow\n",
        "\n",
        "1. Imports\n",
        "2. Create Fully connected neural network\n",
        "3. Set Device\n",
        "4. Hyperparatmets\n",
        "5. Load Data\n",
        "6. Initialize network\n",
        "7. Loss and optimizers\n",
        "8. Train Network\n",
        "9. Check accuracy"
      ],
      "metadata": {
        "id": "_0jIS0Keze-H"
      }
    },
    {
      "cell_type": "code",
      "execution_count": null,
      "metadata": {
        "id": "tvPZtFx3vOd_"
      },
      "outputs": [],
      "source": [
        "# 1. Imports\n",
        "import torch\n",
        "import torch.nn as nn\n",
        "import torch.optim as optim # Optimizer module \n",
        "import torch.nn.functional as F # Set of functions which dont have parameters\n",
        "from torch.utils.data import DataLoader # DataLoaser\n",
        "import torchvision.datasets as datasets  # Datasts\n",
        "import torchvision.transforms as transorms # Data transformation module"
      ]
    },
    {
      "cell_type": "markdown",
      "source": [
        "# NN Model"
      ],
      "metadata": {
        "id": "mXoGauMMWBz-"
      }
    },
    {
      "cell_type": "code",
      "source": [
        "# 2. Model\n",
        "# Create a Fully connected neural network\n",
        "\n",
        "class NN(nn.Module):\n",
        "  def __init__(self,in_size,out_size):\n",
        "    super(NN,self).__init__()\n",
        "    self.fc1 = nn.Linear(in_size,50)\n",
        "    self.fc2 = nn.Linear(50,out_size)\n",
        "\n",
        "  def forward(self,x):\n",
        "    x = F.relu(self.fc1(x))\n",
        "    x = self.fc2(x)\n",
        "    return x\n"
      ],
      "metadata": {
        "id": "o7Co6qZCzOQ9"
      },
      "execution_count": null,
      "outputs": []
    },
    {
      "cell_type": "code",
      "source": [
        "# 3 . Set Device\n",
        "\n",
        "device = torch.device('cuda' if torch.cuda.is_available() else 'cpu')"
      ],
      "metadata": {
        "id": "jZ1Ffsb00mN7"
      },
      "execution_count": null,
      "outputs": []
    },
    {
      "cell_type": "code",
      "source": [
        "# 4. Hyperparameters\n",
        "\n",
        "in_size = 784\n",
        "out_size = 10\n",
        "lr = 0.001\n",
        "batch_size = 64\n",
        "epochs = 25\n"
      ],
      "metadata": {
        "id": "RUZL5Ihe1Joj"
      },
      "execution_count": null,
      "outputs": []
    },
    {
      "cell_type": "code",
      "source": [
        "# 5. Load data\n",
        " \n",
        "train_dataset  = datasets.MNIST(root = 'dataset/',train= True,transform = transorms.ToTensor(),download = True)\n",
        "train_loader  = DataLoader(dataset = train_dataset,batch_size = batch_size,shuffle = True)\n",
        "test_dataset  = datasets.MNIST(root = 'dataset/',train= False,transform = transorms.ToTensor(),download = True)\n",
        "test_loader  = DataLoader(dataset = test_dataset,batch_size = batch_size,shuffle = True)"
      ],
      "metadata": {
        "id": "leneeJg91iN_"
      },
      "execution_count": null,
      "outputs": []
    },
    {
      "cell_type": "code",
      "source": [
        "# 6 . Initialize Netwokr\n",
        "model = NN(in_size=in_size, out_size  = out_size)"
      ],
      "metadata": {
        "id": "Vp-SBvpL4hV5"
      },
      "execution_count": null,
      "outputs": []
    },
    {
      "cell_type": "code",
      "source": [
        "# 7. Loss and optimizer\n",
        "criterion = nn.CrossEntropyLoss()\n",
        "optimizer = optim.Adam(model.parameters(),lr= lr)"
      ],
      "metadata": {
        "id": "6SVz50MX49zW"
      },
      "execution_count": null,
      "outputs": []
    },
    {
      "cell_type": "code",
      "source": [
        "# 8. Train network\n",
        "  \n",
        "for epoch in range (epochs):\n",
        "  for batch_idx, (data,targets) in enumerate(train_loader):\n",
        "    \n",
        "    data = data.to(device = device)\n",
        "    data = data.reshape(data.shape[0],-1)\n",
        "    # forward\n",
        "    scores = model(data)\n",
        "    loss = criterion(scores, targets)\n",
        "    # Backward\n",
        "    optimizer.zero_grad()\n",
        "    loss.backward()\n",
        "    #gradient descent\n",
        "    optimizer.step()"
      ],
      "metadata": {
        "id": "ShAMN3Fj5MFv"
      },
      "execution_count": null,
      "outputs": []
    },
    {
      "cell_type": "code",
      "source": [
        "# 9. Check accuracy\n",
        "\n",
        "def check_accuracy(loader,model):\n",
        "  if loader.dataset.train:\n",
        "    print(\"checking accuracy for training data\")\n",
        "  else:\n",
        "    print(\"checking accuracy on test\")\n",
        "  num_correct = 0\n",
        "  num_samples = 0\n",
        "  model.eval()  # Set the model to evaluate to let the model know its evaluation mode\n",
        "  with torch.no_grad():   # to stop unnecessory calculations\n",
        "    for x,y in loader:\n",
        "      x = x.to(device=device)\n",
        "      y = y.to(device=device)\n",
        "      x = x.reshape(x.shape[0],-1)\n",
        "      \n",
        "      scores = model(x)  # return (64 X 10 ) matrix \n",
        "      _,predictions  = scores.max(1)    # To get max out of 10 and ignore the 1st return value which is the index of the max values\n",
        "      num_correct += (predictions==y).sum()\n",
        "      num_samples +=predictions.size(0)\n",
        "    print(f' Accuracy = {float(num_correct)/float(num_samples) * 100 : .2f}')\n",
        "\n",
        "  model.train()\n",
        "\n",
        "\n",
        "\n"
      ],
      "metadata": {
        "id": "UkhABeY3E3ho"
      },
      "execution_count": null,
      "outputs": []
    },
    {
      "cell_type": "code",
      "source": [
        "check_accuracy(train_loader,model)\n",
        "check_accuracy(test_loader,model)"
      ],
      "metadata": {
        "colab": {
          "base_uri": "https://localhost:8080/"
        },
        "id": "bRcBStztQRuo",
        "outputId": "7765cb38-3543-4f23-e91e-618923975bab"
      },
      "execution_count": null,
      "outputs": [
        {
          "output_type": "stream",
          "name": "stdout",
          "text": [
            "checking accuracy for training data\n",
            " Accuracy =  99.72\n",
            "checking accuracy on test\n",
            " Accuracy =  97.04\n"
          ]
        }
      ]
    }
  ]
}